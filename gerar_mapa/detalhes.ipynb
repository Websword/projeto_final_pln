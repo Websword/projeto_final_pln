{
 "cells": [
  {
   "cell_type": "code",
   "execution_count": 5,
   "metadata": {},
   "outputs": [],
   "source": [
    "import pygame\n",
    "import random\n",
    "import pandas as pd\n",
    "import PIL\n",
    "from PIL import Image\n",
    "from matplotlib import image\n",
    "import matplotlib\n",
    "from PIL import ImageColor\n",
    "\n",
    "\n",
    "imagem = Image.open(\"exemplo.png\")\n",
    "data_mapa = image.imread(\"exemplo.png\")\n",
    "tamanho = data_mapa.shape\n",
    "i2 = imagem.copy()\n",
    "i2 = i2.resize([(tamanho[1]//2)*20,(tamanho[0]//2)*20])\n",
    "\n"
   ]
  },
  {
   "cell_type": "code",
   "execution_count": 6,
   "metadata": {},
   "outputs": [],
   "source": [
    "#FUNÇÕES PARA ANALISE DA IMAGEM\n",
    "\n",
    "def info (x):\n",
    "    return (x.size)\n",
    "   \n",
    "    \n",
    "def cores_in (x):\n",
    "    cores = []\n",
    "    for cor_rgb in x.getdata():\n",
    "        if cor_rgb not in cores:\n",
    "            cores.append(cor_rgb)\n",
    "\n",
    "    print(cores)\n",
    "    \n",
    "def convert_rgba4hex(x):\n",
    "    \n",
    "    hex = (matplotlib.colors.to_hex(x))\n",
    "    rgb = ImageColor.getcolor(hex, \"RGB\")\n",
    "    return(rgb)"
   ]
  },
  {
   "cell_type": "code",
   "execution_count": 7,
   "metadata": {},
   "outputs": [],
   "source": [
    "\n",
    "mar = [(128, 255, 255),(245,137,142), (136, 0, 21), (153, 217, 234)]\n",
    "cidade = [(195, 195, 195),(127, 127, 127),(255,255,255),(0,0,0),(63,72,204)]\n",
    "img1 = i2\n",
    "posi = -1\n",
    "\n",
    "for x in range(0,tamanho[1],4):\n",
    "    posi+= 1\n",
    "    for y in range(0,tamanho[0],4):\n",
    "\n",
    "\n",
    "        if convert_rgba4hex(data_mapa[y,x]) in mar:\n",
    "            img2 = Image.open(\"tiles/agua.png\")\n",
    "            img1.paste(img2, (x*10,y*10), mask = img2)\n",
    "            img1.paste(img2, (x*10+20,y*10), mask = img2)\n",
    "            img1.paste(img2, (x*10,y*10+20), mask = img2)\n",
    "            img1.paste(img2, (x*10+20,y*10+20), mask = img2)\n",
    "\n",
    "        elif convert_rgba4hex(data_mapa[y,x]) == (112,146,190):\n",
    "            img2 = Image.open(\"tiles/mar_agitado.png\")\n",
    "            img1.paste(img2, (x*10,y*10), mask = img2)\n",
    "            img1.paste(img2, (x*10+20,y*10), mask = img2)\n",
    "            img1.paste(img2, (x*10,y*10+20), mask = img2)\n",
    "            img1.paste(img2, (x*10+20,y*10+20), mask = img2)\n",
    "\n",
    "\n",
    "        else:\n",
    "            img2 = Image.open(\"tiles/grama_1.png\")\n",
    "            img1.paste(img2, (x*10,y*10), mask = img2)\n",
    "            img1.paste(img2, (x*10+20,y*10), mask = img2)\n",
    "            img1.paste(img2, (x*10,y*10+20), mask = img2)\n",
    "            img1.paste(img2, (x*10+20,y*10+20), mask = img2)\n",
    "\n",
    "\n",
    "\n",
    "\n"
   ]
  },
  {
   "cell_type": "code",
   "execution_count": 8,
   "metadata": {},
   "outputs": [],
   "source": [
    "i2.save('mapa_navegavel.png')"
   ]
  }
 ],
 "metadata": {
  "kernelspec": {
   "display_name": "Python 3",
   "language": "python",
   "name": "python3"
  },
  "language_info": {
   "codemirror_mode": {
    "name": "ipython",
    "version": 3
   },
   "file_extension": ".py",
   "mimetype": "text/x-python",
   "name": "python",
   "nbconvert_exporter": "python",
   "pygments_lexer": "ipython3",
   "version": "3.12.1"
  }
 },
 "nbformat": 4,
 "nbformat_minor": 2
}
